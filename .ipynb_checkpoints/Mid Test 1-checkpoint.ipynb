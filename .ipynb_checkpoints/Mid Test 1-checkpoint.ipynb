{
 "cells": [
  {
   "cell_type": "code",
   "execution_count": 17,
   "id": "95c51496",
   "metadata": {},
   "outputs": [
    {
     "name": "stdout",
     "output_type": "stream",
     "text": [
      "\n",
      "Curiculum Vitae\n",
      "Nama                  : David\n",
      "Pendidikan Formal     : SMA\n",
      "Pendidikan Non-formal : Tidak ada\n",
      "Organisasi            : Tidak ada\n",
      "Prestasi              : Tidak ada\n",
      "\n"
     ]
    }
   ],
   "source": [
    "# Program Menampilkan Curiculum Vitae\n",
    "print (\"\"\"\n",
    "Curiculum Vitae\n",
    "Nama                  : David\n",
    "Pendidikan Formal     : SMA\n",
    "Pendidikan Non-formal : Tidak ada\n",
    "Organisasi            : Tidak ada\n",
    "Prestasi              : Tidak ada\n",
    "\"\"\")"
   ]
  },
  {
   "cell_type": "code",
   "execution_count": 18,
   "id": "3bde6efd",
   "metadata": {},
   "outputs": [
    {
     "name": "stdout",
     "output_type": "stream",
     "text": [
      "Masukkan panjang : 9\n",
      "Masukkan Lebar : 3\n",
      "Luas persegi panjang yang dihasilkan adalah  27\n"
     ]
    }
   ],
   "source": [
    "# Program Menghitung Luas Persegi Panjang\n",
    "panjang = int(input(\"Masukkan panjang : \"))\n",
    "lebar = int(input(\"Masukkan Lebar : \"))\n",
    "luas = panjang * lebar\n",
    "print (\"Luas persegi panjang yang dihasilkan adalah \", luas)"
   ]
  },
  {
   "cell_type": "code",
   "execution_count": 25,
   "id": "170bbca8",
   "metadata": {},
   "outputs": [
    {
     "name": "stdout",
     "output_type": "stream",
     "text": [
      "Masukkan Celcius : 20\n",
      "20 Celcius sama dengan 68.0 Farenheit\n",
      "20 Celcius sama dengan 16.0 Reamur\n",
      "\n",
      "\n",
      "Masukkan Reamur : 16\n",
      "16  Reamur sama dengan 20.0 Celcius\n",
      "16  Reamur sama dengan 68.0 Farenheit\n",
      "\n",
      "\n",
      "Masukkan Farenheit : 68\n",
      "68 Farenheit sama dengan 20.0 Celcius\n",
      "68 Farenheit sama dengan 16.0 Reamur\n"
     ]
    }
   ],
   "source": [
    "# Program konversi suhu dari celcius, reamur dan farenheit\n",
    "celcius = int(input(\"Masukkan Celcius : \"))\n",
    "farenheit = (celcius * (9/5)) + 32\n",
    "reamur = 4/5*celcius\n",
    "print (celcius, \"Celcius sama dengan\", farenheit, \"Farenheit\")\n",
    "print (celcius, \"Celcius sama dengan\", reamur, \"Reamur\")\n",
    "\n",
    "print (\"\\n\")\n",
    "\n",
    "reamur = int(input(\"Masukkan Reamur : \"))\n",
    "celcius = (reamur * (5/4)) \n",
    "farenheit = (reamur *(9/4)) + 32\n",
    "print (reamur, \" Reamur sama dengan\", celcius, \"Celcius\")\n",
    "print (reamur, \" Reamur sama dengan\", farenheit, \"Farenheit\")\n",
    "\n",
    "print (\"\\n\")\n",
    "\n",
    "farenheit = int(input(\"Masukkan Farenheit : \"))\n",
    "celcius = (farenheit - 32)* 5/9\n",
    "reamur = (farenheit - 32)* 4/9\n",
    "print (farenheit, \"Farenheit sama dengan\", celcius, \"Celcius\")\n",
    "print (farenheit, \"Farenheit sama dengan\", reamur, \"Reamur\")"
   ]
  },
  {
   "cell_type": "code",
   "execution_count": 23,
   "id": "d0cfbcaa",
   "metadata": {},
   "outputs": [
    {
     "name": "stdout",
     "output_type": "stream",
     "text": [
      "Berapa detik yang ingan dikonversi? : 90061\n",
      "90061  detik sama dengan  1  hari  1  jam  1  menit  1  detik\n"
     ]
    }
   ],
   "source": [
    "# Program konversi detik ke hari, jam, menit, detik\n",
    "detik = int(input(\"Berapa detik yang ingan dikonversi? : \"))\n",
    "hari = detik // 86400\n",
    "jam = (detik % 86400)//3600\n",
    "menit = ((detik % 86400)%3600)//60\n",
    "s = ((detik % 86400)%3600)%60\n",
    "print(detik, \" detik sama dengan \", hari, \" hari \", jam, \" jam \", menit, \" menit \", s, \" detik\")"
   ]
  },
  {
   "cell_type": "code",
   "execution_count": 46,
   "id": "14877657",
   "metadata": {},
   "outputs": [
    {
     "name": "stdout",
     "output_type": "stream",
     "text": [
      "Mau hitung dengan Jari-jari atau diameter? (J/D) d\n",
      "Masukkan Diameter lingkaran : 6\n",
      "Maka luas lingkaran =  28.285714285714285\n"
     ]
    }
   ],
   "source": [
    "# Program menghitung luas lingkaran\n",
    "phi = 22/7\n",
    "ygmana = input (\"Mau hitung dengan Jari-jari atau diameter? (J/D) \")\n",
    "if ygmana.upper() == \"J\":\n",
    "    jari = float(input(\"Masukkan jari-jari lingkaran : \"))\n",
    "    luas = phi * (jari ** 2)\n",
    "elif ygmana.upper() == \"D\":\n",
    "    diameter = float(input(\"Masukkan Diameter lingkaran : \"))\n",
    "    luas = (phi * (1/4)) * (diameter ** 2)\n",
    "else:\n",
    "    print (\"ERROR\")\n",
    "    luas = \"Tidak ada\"\n",
    "print (\"Maka luas lingkaran = \", luas)"
   ]
  },
  {
   "cell_type": "code",
   "execution_count": null,
   "id": "7904f851",
   "metadata": {},
   "outputs": [],
   "source": []
  }
 ],
 "metadata": {
  "kernelspec": {
   "display_name": "Python 3",
   "language": "python",
   "name": "python3"
  }
 },
 "nbformat": 4,
 "nbformat_minor": 5
}
